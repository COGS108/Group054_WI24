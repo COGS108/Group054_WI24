{
 "cells": [
  {
   "cell_type": "markdown",
   "metadata": {},
   "source": [
    "# COGS 108 - Project Proposal"
   ]
  },
  {
   "cell_type": "markdown",
   "metadata": {},
   "source": [
    "# Research Question"
   ]
  },
  {
   "cell_type": "markdown",
   "metadata": {},
   "source": [
    "What is the measure of a state's self-sufficiency determined by its GDP and the amount received by the Federal Government for disaster relief?\n",
    "\n"
   ]
  },
  {
   "cell_type": "markdown",
   "metadata": {},
   "source": [
    "## Background and Prior Work"
   ]
  },
  {
   "cell_type": "markdown",
   "metadata": {},
   "source": [
    "\n",
    "- Include a general introduction to your topic\n",
    "- Include explanation of what work has been done previously\n",
    "- Include citations or links to previous work\n",
    "\n",
    "\n",
    "\n",
    "The United States was born out of the colonies' desire to free itself from the tyranny of a government who held complete control over their commerce and rights. This wariness of a centralized governmental structure has created a special form of a federal presidential republic which influences may aspects of how the government runs today, such as the separation of powers as labeled within the United States Constitution. The states can be considered, to an extent, nations within a nation. A study published in 2023 by smartasset<a name=\"cite_ref-1\"><a>[<sup>1</sup>](#cite_note-1) displays one aspect of this relationship - the depth to which states receive their funding from the federal government. But after decades of peace and prosperity as a singular united nation on the world stage - how many maintain this level of self-sufficiency in disasters, conditions outside their regular capacities?\n",
    "\n",
    "References can be research publications, but they need not be. Blogs, GitHub repositories, company websites, etc., are all viable references if they are relevant to your project. It must be clear which information comes from which references. (2-3 paragraphs, including at least 2 references)\n",
    "\n",
    " **Use inline citation through HTML footnotes to specify which references support which statements** \n",
    "\n",
    "For example: After government genocide in the 20th century, real birds were replaced with surveillance drones designed to look just like birds.<a name=\"cite_ref-1\"></a>[<sup>1</sup>](#cite_note-1) Use a minimum of 2 or 3 citations, but we prefer more.<a name=\"cite_ref-2\"></a>[<sup>2</sup>](#cite_note-2) You need enough to fully explain and back up important facts. \n",
    "\n",
    "Note that if you click a footnote number in the paragraph above it will transport you to the proper entry in the footnotes list below.  And if you click the ^ in the footnote entry, it will return you to the place in the main text where the footnote is made.\n",
    "\n",
    "To understand the HTML here, `<a name=\"#...\"> </a>` is a tag that allows you produce a named reference for a given location.  Markdown has the construciton `[text with hyperlink](#named reference)` that will produce a clickable link that transports you the named reference.\n",
    "\n",
    "1. <a name=\"cite_note-1\"></a> [^](#cite_ref-1) Jaclyn, D. (14 Apr. 2023)  Where Your Tax Dollars Go: States Most Dependent on the Federal Government – 2023 Study *smartasset* https://smartasset.com/data-studies/states-most-dependent-federal-government-2023 \n",
    "2. <a name=\"cite_note-2\"></a> [^](#cite_ref-2) Also refs should be important to the background, not some randomly chosen vaguely related stuff. Include a web link if possible in refs as above.\n"
   ]
  },
  {
   "cell_type": "markdown",
   "metadata": {},
   "source": [
    "# Hypothesis\n"
   ]
  },
  {
   "cell_type": "markdown",
   "metadata": {},
   "source": [
    "\n",
    "- States whose primary revenue comes from mining, agriculture, entertainment, and those with historical Republican inclinations have lower levels of self-sufficiency as a proportion of its GDP than states whose primary revenues comes from technology and those with historical Democratic inclinations. \n",
    "     \n",
    "     - This hypothesis was created from the assumption that the United States is a consumer economy will decreasing emphasis on developing industries such as mining, agriculture, and so on. Republican states will lack the necessary funds from the state government to allocate resources for disaster relief and will require aid from the federal government, while Democratic states will be more able to fund their own resources for disaster relief. "
   ]
  },
  {
   "cell_type": "markdown",
   "metadata": {},
   "source": [
    "# Data"
   ]
  },
  {
   "cell_type": "markdown",
   "metadata": {},
   "source": [
    "\n",
    "The ideal dataset about the measure of a state's self-sufficiency as a value of its GDP and the amount received by the Federal Government for disaster relief should encompass a variety of variables:\n",
    "- State's would represent the individual states within the country. \n",
    "- GDP (Gross Domestic Product) for each of those states.\n",
    "- The amount of money spent on disaster relief by each state\n",
    "- A specific time period the data would be on.\n",
    "- Types of disasters the states spend on (Hurricanes, Earthquakes, Fires, etc.).\n",
    "\n",
    "Finding data about state spendings and natural disasters would be best found through public government reports, official documents. This could be through yearly reports from each state about the amount spent in disaster reliefs. These documents are typically stored in a spreadsheet format, where each column could represent the variables mentioned above and rows could represent each state. One possible way it could be organized is by state order, most money spent to least, or vice versa.\n",
    "\n",
    "Example data:\n",
    "California Disaster Reliefs Spending from 2017-2019\n",
    "https://www.fema.gov/emergency-managers/national-preparedness/frameworks/national-disaster-recovery/support-functions/rsflg/charts\n",
    "\n",
    "California's DGP from 2000-2022\n",
    "https://usafacts.org/metrics/gross-domestic-product-gdp-by-state-california/?adjustment=None&timeGranularity=Yearly\n"
   ]
  },
  {
   "cell_type": "markdown",
   "metadata": {},
   "source": [
    "# Ethics & Privacy"
   ]
  },
  {
   "cell_type": "markdown",
   "metadata": {},
   "source": [
    "When considering the ethical implications of our project, we believe that we have conducted it in a legal and fair manner. Our project is intended for academic use rather than commercial purposes. Specifically, all the data used in our project is sourced from official public datasets available online, and it does not involve any personal data. Moreover, there is no collection bias as the data is obtained from governmental releases."
   ]
  },
  {
   "cell_type": "markdown",
   "metadata": {},
   "source": [
    "# Team Expectations "
   ]
  },
  {
   "cell_type": "markdown",
   "metadata": {},
   "source": [
    "\n",
    "* *Be Communicative* - Communicate any difficulties ahead of time! If assistance is needed, or maybe if a team member is unable to do/finish what they need to do, communicating it ahead of time will allow others to help expedite the process.\n",
    "\n",
    "* *Contribute Fairly* - Uphold the responsibilities assigned or taken up by each individual group member, but also keep in mind to make key decisions as a group. \n",
    "\n",
    "* *Communication Guideline* - Communicate primarily through Discord and attend scheduled weekly/bi-weekly calls. Most, if not all calls will be virtual, but be present and be involved in the project."
   ]
  },
  {
   "cell_type": "markdown",
   "metadata": {},
   "source": [
    "# Project Timeline Proposal"
   ]
  },
  {
   "cell_type": "markdown",
   "metadata": {},
   "source": [
    "Specify your team's specific project timeline. An example timeline has been provided. Changes the dates, times, names, and details to fit your group's plan.\n",
    "\n",
    "If you think you will need any special resources or training outside what we have covered in COGS 108 to solve your problem, then your proposal should state these clearly. For example, if you have selected a problem that involves implementing multiple neural networks, please state this so we can make sure you know what you’re doing and so we can point you to resources you will need to implement your project. Note that you are not required to use outside methods.\n",
    "\n",
    "\n",
    "\n",
    "| Meeting Date  | Meeting Time| Completed Before Meeting  | Discuss at Meeting |\n",
    "|---|---|---|---|\n",
    "| 2/4  |  6 PM | Read Previous COGS 108 Projects  | Discussed the strengths and weaknesses of two COGS 108 projects made by previous groups and noted things to keep and leave in our projects. | \\n\",\n",
    "| 2/8  |  3 PM |  Research Question | Discuss hypothesis, research question, project timeline proposal | \\n\",\n",
    "| 2/11  |  6 PM |  Work on Project Proposal | Discuss hypothesis, research question, project timeline proposal | \\n\",\n",
    "| 2/19  | 7 PM  | Find Relevant Data | Choose which data we found best fits our research purposes   |\\n\",\n",
    "| 2/22  | 8:30 PM  | Categorize Relevant Data | Discuss what kind of further questions we want to ask within our research question |\\n\",\n",
    "| 3/4  | 7 PM  | Work on individual categories | Review and discuss progress |\\n\",\n",
    "| 3/7  | 7 PM  | Work on individual categories | Review and discuss progress |\\n\",\n",
    "| 3/14  | 7 PM  | Work on individual categories | Review and discuss progress |\\n\",\n",
    "| 3/17  | 7 PM  | Work on individual categories | Review and discuss progress |\\n\",\n",
    "| 3/20  | Before 11:59 PM  | The Final Project | Turn in Final Project & Group Project Surveys |\""
   ]
  }
 ],
 "metadata": {
  "kernelspec": {
   "display_name": "Python 3.9.6 64-bit",
   "language": "python",
   "name": "python3"
  },
  "language_info": {
   "codemirror_mode": {
    "name": "ipython",
    "version": 3
   },
   "file_extension": ".py",
   "mimetype": "text/x-python",
   "name": "python",
   "nbconvert_exporter": "python",
   "pygments_lexer": "ipython3",
   "version": "3.9.6"
  },
  "vscode": {
   "interpreter": {
    "hash": "31f2aee4e71d21fbe5cf8b01ff0e069b9275f58929596ceb00d14d90e3e16cd6"
   }
  }
 },
 "nbformat": 4,
 "nbformat_minor": 2
}
