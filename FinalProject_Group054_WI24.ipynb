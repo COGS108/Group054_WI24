{
 "cells": [
  {
   "cell_type": "markdown",
   "metadata": {},
   "source": [
    "# COGS 108 - Final Project (change this to your project's title)\n",
    "\n",
    "# Permissions\n",
    "\n",
    "Place an `X` in the appropriate bracket below to specify if you would like your group's project to be made available to the public. (Note that student names will be included (but PIDs will be scraped from any groups who include their PIDs).\n",
    "\n",
    "* [  ] YES - make available\n",
    "* [  ] NO - keep private\n",
    "\n",
    "# Names\n",
    "\n",
    "- Ivan Chen \n",
    "- Leo Fleury\n",
    "- Daniel Yoon   \n",
    "- Fei He\n",
    "- HaoTing Huang\n",
    "\n",
    "# Abstract\n",
    "\n",
    "Please write one to four paragraphs that describe a very brief overview of why you did this, how you did, and the major findings and conclusions."
   ]
  },
  {
   "cell_type": "markdown",
   "metadata": {},
   "source": [
    "# Research Question"
   ]
  },
  {
   "cell_type": "markdown",
   "metadata": {},
   "source": [
    "What is the association between the amount of federal money a state receives for disaster relief and the factors, state GDP , number of disasters, and political leaning per year from 2017 to 2022?"
   ]
  },
  {
   "cell_type": "markdown",
   "metadata": {},
   "source": [
    "## Background and Prior Work"
   ]
  },
  {
   "cell_type": "markdown",
   "metadata": {},
   "source": [
    "The United States was born out of the colonies' desire to free from the tyranny of a government holding complete control over their commerce and rights. This wariness of a centralized governmental structure influences many aspects of how the government runs today, such as the separation of powers as labeled within the United States Constitution. The states can be considered, to an extent, nations within a nation. A study published in 2023 by smartasset<a name=\"cite_ref-1\"></a>[<sup>1</sup>](#cite_note-1) displays one aspect of this relationship - the depth to which states receive their funding from the federal government. But after decades of peace and prosperity as a singular united nation on the world stage - how many maintain this level of self-sufficiency in disasters?\n",
    "\n",
    "Another source we looked at was a data science project done by Money Geek that looked at which states were most reliant on federal aid. This project is relevant to ours because federal aid reduces the burden on a states budget and how much they can allocate towards disaster relief <a name=\"cite_ref-2\"></a>[<sup>2</sup>](#cite_note-2). To compute this, the team at Money Geek did not just look at total federal aid, but looked at federal funding as a percentage of state revenue and return on tax dollars which was a statistic showing how much the state got back for every dollar that they gave the government. What we learned from the metrics used (such as aid as a percentage of state revenue and return on tax dollars) is that often a data set will require a lot of cleaning and development of our own metrics before we can get the answer to our question. Our question being the relation between GDP and a state's amount spent on disaster relief. From the Money Geek project, we also saw how others incorporate graphs into their findings. Money geek did a very good job about making the main findings visible in the titles of their graphs and throughout their paragraphs. For example, one of the main findings from the data set was that states that get the most in federal aid are often republican states. Then, they created a illustrative bar chart to display this. \n",
    "\n",
    "Lastly, another project we found relevant from economy.com looking at how natural disasters affect national GDP, which we also found relevant to our project as it relates to natural disasters and uses GDP as a metric. However, our project takes a different angle by using GDP as a measure of a states self sufficiency and seeing how that correlates to how much disaster relief aid that state gets. Some relevant take-aways from the source were that natural disasters only have a minor impact on national GDP but can be very impactful for local GDP. For example, from economy.com calculations, real GDP growth for New Orleans fell 20% at an annual rate in the third quarter of 2005 after Katrina <a name=\"cite_ref-3\"></a>[<sup>3</sup>](#cite_note-3). \n",
    "\n",
    "1. <a name=\\\"cite_note-1\\\"></a> [^](#cite_ref-1) Jaclyn, D. (14 Apr. 2023)  Where Your Tax Dollars Go: States Most Dependent on the Federal Government – 2023 Study *smartasset* https://smartasset.com/data-studies/states-most-dependent-federal-government-2023 \n",
    "2. <a name=\\\"cite_note-2\\\"></a> [^](#cite_ref-2) MoneyGeek. (n.d.). States Most Reliant on the Federal Government., from https://www.moneygeek.com/living/states-most-reliant-federal-government/\n",
    "3. <a name=\\\"cite_note-3\\\"></a> [^](#cite_ref-3) Moody's Analytics. (n.d.). How Natural Disasters Affect US GDP. Economy.com., from https://www.economy.com/economicview/analysis/296804/How-Natural-Disasters-Affect-US-GDP"
   ]
  },
  {
   "cell_type": "markdown",
   "metadata": {},
   "source": [
    "# Hypothesis\n"
   ]
  },
  {
   "cell_type": "markdown",
   "metadata": {},
   "source": [
    "We predict that in the United States in 2022, states with lower Gross Domestic Product (GDP) and historical Republican inclinations will be associated with an increase in federal disaster relief funding (as a percentage of the state's GDP). Conversely, states with higher GDP and historical Democratic ties will receive a lower percentage of their GDP in federal disaster relief funding. This study aims to analyze data over the past two decades to investigate these relationships, employing statistical analysis methods to understand the impact of economic status and political affiliation on disaster relief funding."
   ]
  },
  {
   "cell_type": "markdown",
   "metadata": {},
   "source": [
    "# Data"
   ]
  },
  {
   "cell_type": "markdown",
   "metadata": {},
   "source": [
    "## Data overview\n",
    "\n",
    "- Dataset #1\n",
    "  - Dataset Name: Gross Domestic Product (GDP) by state\n",
    "  - Link to the dataset: https://usafacts.org/metrics/gross-domestic-product-gdp-by-state/?adjustment=None&timeGranularity=Yearly\n",
    "  - Number of observations: 45\n",
    "  - Number of variables: 51\n",
    "- Dataset #2 \n",
    "  - Dataset Name:\n",
    "  - Link to the dataset: https://www.bea.gov/data/gdp/gdp-state\n",
    "  - Number of observations:\n",
    "  - Number of variables:\n",
    "- Dataset #3\n",
    "  - Dataset Name: Emergency Management Performance Grants\n",
    "  - Link to dataset: https://www.fema.gov/openfema-data-page/emergency-management-performance-grants-v2\n",
    "  - Number of observations: 19615\n",
    "  - Number of variables: 9\n",
    "- Dataset #4\n",
    "  - Dataset Name: Public Assistance Funded Projects Detail\n",
    "  - Link to dataset: https://www.fema.gov/openfema-data-page/public-assistance-funded-projects-details-v1\n",
    "  - Number of observations: 805,572\n",
    "  - Number of variables: 22\n",
    "\n",
    "\n",
    "For our first dataset, GDP by state, is a dataset that gives us each states, GDP by year. The dataset includes data from 1977 - 2022, with the GDP of each state per year. The states are organized by alphabetical order and the year from 2022 down to 1977. As for data, majority of it are integers, which simplifies it a little. As for cleaning the dataset, we want to extract data from 2017 to 2022 only, which means we need to filter more than half the dataset.\n",
    "\n",
    "The second dataset by BEA, it is a dataset that provides the GDP by each state, seperated by region from most to least. This dataset includes each states GDP by quarter and takes inflation into account (2017 Dollar value). This dataset has many tables with valuable information, but we are focused on Tables 1, 3, and 5. Table 2 includes data about the Personal Income per state in the same format as Table 1. A few important varaibles in this dataset would include States, Regions, Quarters, and Total. These are the main variables that will help us analyze the data. Since the data is already well organized, the only things we would need to do is find missing data, if there is any, and understand why it may be missing. \n",
    "\n",
    "Our third dataset, Emergency Managment Performance Grants, is a detailed dataset of emergency funding each state as received. This dataset inlcudes every agency that has provided a specific state emergency funding. The data variables includes states, id, agency name, closing and opening date, and more. We are mainly looking for state, amount and reporting period (2017-2022), so we can focus on extracting those variables out. With the large amount of agency's in each state, it would be best to combine it all under the state, where we have the total number of funding per state. \n",
    "\n",
    "Our last dataset, Public Assistance Funded Projects Detail, is another very detailed dataset that has information about emergency funding. To be more exact, it has information about what kind of natural disasters, which county and it's county code, project amount, federal share obligated, total obligated, and more. For this project, knowing what specific natural disaster and how much a state got because of that isn't our main goal, so we would have to sort it by year, maintaining our goal of finding data from 2017-2022.\n",
    "\n",
    "\n",
    "With our datasets, it would be useful to look at them and understand if a state with a higher GDP gets more emergency funding overall. We want to see the relationships between the two and with the information we have, it would help prove our research question."
   ]
  },
  {
   "cell_type": "markdown",
   "metadata": {},
   "source": [
    "## Dataset #1 Emergency Management Performance Grants\n"
   ]
  },
  {
   "cell_type": "code",
   "execution_count": 2,
   "metadata": {},
   "outputs": [
    {
     "ename": "ModuleNotFoundError",
     "evalue": "No module named 'pandas'",
     "output_type": "error",
     "traceback": [
      "\u001b[0;31m---------------------------------------------------------------------------\u001b[0m",
      "\u001b[0;31mModuleNotFoundError\u001b[0m                       Traceback (most recent call last)",
      "Cell \u001b[0;32mIn[2], line 1\u001b[0m\n\u001b[0;32m----> 1\u001b[0m \u001b[38;5;28;01mimport\u001b[39;00m \u001b[38;5;21;01mpandas\u001b[39;00m \u001b[38;5;28;01mas\u001b[39;00m \u001b[38;5;21;01mpd\u001b[39;00m\n\u001b[1;32m      2\u001b[0m pd\u001b[38;5;241m.\u001b[39mset_option(\u001b[38;5;124m'\u001b[39m\u001b[38;5;124mdisplay.max_rows\u001b[39m\u001b[38;5;124m'\u001b[39m, \u001b[38;5;241m10\u001b[39m)\n\u001b[1;32m      4\u001b[0m url \u001b[38;5;241m=\u001b[39m \u001b[38;5;124m'\u001b[39m\u001b[38;5;124mData/EmergencyManagementPerformanceGrants.csv\u001b[39m\u001b[38;5;124m'\u001b[39m\n",
      "\u001b[0;31mModuleNotFoundError\u001b[0m: No module named 'pandas'"
     ]
    }
   ],
   "source": [
    "import pandas as pd\n",
    "pd.set_option('display.max_rows', 10)\n",
    "\n",
    "url = 'Data/EmergencyManagementPerformanceGrants.csv'\n",
    "df = pd.read_csv(url)\n",
    "df['state'].unique()\n",
    "df_not_state = df['state'].str.contains('Puerto Rico|American Samoa|District of Columbia|Northern Mariana Islands|Guam|Virgin Islands')\n",
    "df = df[~df_not_state] #filter to only include US states\n",
    "df['state'].unique().size #check to see that our state column only has 50 values\n",
    "\n",
    "def standardize_reportingPeriod(string):\n",
    "    \n",
    "    string = string.lower().strip()\n",
    "    \n",
    "    if '2014' in string:\n",
    "        output = 2014\n",
    "    elif '2015' in string:\n",
    "        output = 2015\n",
    "    elif '2016' in string:\n",
    "        output = 2016\n",
    "    elif '2017' in string:\n",
    "        output = 2017\n",
    "    elif '2018' in string:\n",
    "        output = 2018\n",
    "    elif '2019' in string:\n",
    "        output = 2019\n",
    "    elif '2020' in string:\n",
    "        output = 2020\n",
    "    elif '2021' in string:\n",
    "        output = 2021\n",
    "    elif '2022' in string:\n",
    "        output = 2022\n",
    "    # Otherwise, if uncaught - keep as is\n",
    "    else:\n",
    "        output = string\n",
    "    \n",
    "    return output\n",
    "\n",
    "df['reportingPeriod'] = df['reportingPeriod'].apply(standardize_reportingPeriod)\n",
    "df = df.query('reportingPeriod >= 2019') #filter so lowest year is 2017 to match other data\n",
    "\n",
    "df_grouped = df.groupby(by = ['state', 'reportingPeriod']).sum()\n",
    "df_grouped = df_grouped.reset_index()\n",
    "df_grouped = df_grouped.rename(columns = {'reportingPeriod': 'year', 'fundingAmount' : 'funding'})\n",
    "df_grouped['funding'] = df_grouped['funding'].astype(int)\n",
    "\n",
    "us_state_to_abbrev = {\n",
    "    \"Alabama\": \"AL\", \"Alaska\": \"AK\", \"Arizona\": \"AZ\", \"Arkansas\": \"AR\", \"California\": \"CA\",\n",
    "    \"Colorado\": \"CO\", \"Connecticut\": \"CT\", \"Delaware\": \"DE\", \"Florida\": \"FL\", \"Georgia\": \"GA\",\n",
    "    \"Hawaii\": \"HI\", \"Idaho\": \"ID\", \"Illinois\": \"IL\", \"Indiana\": \"IN\", \"Iowa\": \"IA\",\n",
    "    \"Kansas\": \"KS\", \"Kentucky\": \"KY\", \"Louisiana\": \"LA\", \"Maine\": \"ME\", \"Maryland\": \"MD\",\n",
    "    \"Massachusetts\": \"MA\", \"Michigan\": \"MI\", \"Minnesota\": \"MN\", \"Mississippi\": \"MS\", \"Missouri\": \"MO\",\n",
    "    \"Montana\": \"MT\", \"Nebraska\": \"NE\", \"Nevada\": \"NV\", \"New hampshire\": \"NH\", \"New jersey\": \"NJ\",\n",
    "    \"New mexico\": \"NM\", \"New york\": \"NY\", \"North carolina\": \"NC\", \"North dakota\": \"ND\", \"Ohio\": \"OH\",\n",
    "    \"Oklahoma\": \"OK\", \"Oregon\": \"OR\", \"Pennsylvania\": \"PA\", \"Rhode island\": \"RI\", \"South carolina\": \"SC\",\n",
    "    \"South dakota\": \"SD\", \"Tennessee\": \"TN\", \"Texas\": \"TX\", \"Utah\": \"UT\", \"Vermont\": \"VT\",\n",
    "    \"Virginia\": \"VA\", \"Washington\": \"WA\", \"West virginia\": \"WV\", \"Wisconsin\": \"WI\", \"Wyoming\": \"WY\"\n",
    "}\n",
    "\n",
    "df_grouped['state'] = df_grouped['state'].str.lower().str.capitalize().map(us_state_to_abbrev)\n",
    "EMPG = df_grouped #naming to something we will remember\n",
    "EMPG['year'] = EMPG['year'].astype(int) # change to integers\n",
    "EMPG"
   ]
  },
  {
   "cell_type": "markdown",
   "metadata": {},
   "source": [
    "## Dataset #2 Disaster Declarations by State"
   ]
  },
  {
   "cell_type": "code",
   "execution_count": null,
   "metadata": {},
   "outputs": [
    {
     "ename": "",
     "evalue": "",
     "output_type": "error",
     "traceback": [
      "\u001b[1;31mJupyter cannot be started. Error attempting to locate Jupyter: Running cells with 'Python 3.9.6 64-bit' requires jupyter and notebook package.\n",
      "\u001b[1;31mRun the following command to install 'jupyter and notebook' into the Python environment. \n",
      "\u001b[1;31mCommand: 'python -m pip install jupyter notebook -U\n",
      "\u001b[1;31mor\n",
      "\u001b[1;31mconda install jupyter notebook -U'\n",
      "\u001b[1;31mClick <a href='https://aka.ms/installJupyterForVSCode'>here</a> for more info."
     ]
    }
   ],
   "source": [
    "url2 = 'Data/DisasterDeclarationsSummaries.csv'\n",
    "df2= pd.read_csv(url2)\n",
    "\n",
    "df2 = df2.query('2023 > fyDeclared >= 2019 ') # make sure to include equals so 2017 included\n",
    "df2.sort_values(by = 'fyDeclared', ascending = True) # set to true so make sure have correct info\n",
    "df2 = df2.groupby(by = ['state', 'fyDeclared']).size().reset_index(name= 'disasters') # use size for num of disasters instead of sum & give column name\n",
    "df2 = df2.rename(columns={'fyDeclared': 'year'})\n",
    "valid_states = ['AL', 'AK', 'AZ', 'AR', 'CA', 'CO', 'CT', 'DE', 'FL', 'GA', \n",
    "                'HI', 'ID', 'IL', 'IN', 'IA', 'KS', 'KY', 'LA', 'ME', 'MD', \n",
    "                'MA', 'MI', 'MN', 'MS', 'MO', 'MT', 'NE', 'NV', 'NH', 'NJ', \n",
    "                'NM', 'NY', 'NC', 'ND', 'OH', 'OK', 'OR', 'PA', 'RI', 'SC', \n",
    "                'SD', 'TN', 'TX', 'UT', 'VT', 'VA', 'WA', 'WV', 'WI', 'WY']\n",
    "\n",
    "# Filter the DataFrame to only include rows where the state code is in the list of valid states\n",
    "df2 = df2[df2['state'].isin(valid_states)]\n",
    "df2\n",
    "\n",
    "# states didnt have disasters every year so we need to create columns with 0 for years no disasters were declared\n",
    "import itertools\n",
    "\n",
    "years = [2019, 2020, 2021, 2022]\n",
    "combinations = list(itertools.product(valid_states, years)) # Use itertools.product to get all combinations of states and years -- this works like a double sum where the valid states is fixed and its looking at all the states to match\n",
    "combinations\n",
    "df2_combinations = pd.DataFrame(combinations, columns=['state', 'year'])\n",
    "df2_combinations\n",
    "df2_merged = pd.merge(df2_combinations, df2, on = ['state', 'year'], how = 'left')# how on left so that df2_combinations has all rows saved and df2 added -- state and year pairs will get na values\n",
    "df2_merged['disasters'].fillna(0, inplace= True) #in place so a new data frame is not created and old one is kept\n",
    "df2_merged['disasters'] = df2_merged['disasters'].astype(int) # astype converts to a integer\n",
    "disasters =  df2_merged #naming to something we will remember\n",
    "disasters['year'] = disasters['year'].astype(int) # change to integers\n",
    "disasters"
   ]
  },
  {
   "cell_type": "markdown",
   "metadata": {},
   "source": [
    "### Dataset #3 State Historical Political Leaning"
   ]
  },
  {
   "cell_type": "code",
   "execution_count": null,
   "metadata": {},
   "outputs": [
    {
     "ename": "",
     "evalue": "",
     "output_type": "error",
     "traceback": [
      "\u001b[1;31mJupyter cannot be started. Error attempting to locate Jupyter: Running cells with 'Python 3.9.6 64-bit' requires jupyter and notebook package.\n",
      "\u001b[1;31mRun the following command to install 'jupyter and notebook' into the Python environment. \n",
      "\u001b[1;31mCommand: 'python -m pip install jupyter notebook -U\n",
      "\u001b[1;31mor\n",
      "\u001b[1;31mconda install jupyter notebook -U'\n",
      "\u001b[1;31mClick <a href='https://aka.ms/installJupyterForVSCode'>here</a> for more info."
     ]
    }
   ],
   "source": [
    "url3 = 'Data/1976-2022-house.csv'\n",
    "election_data= pd.read_csv(url3)\n",
    "\n",
    "elections_post_2017 = election_data[election_data['year'] > 2019]\n",
    "relevant_elections = elections_post_2017[elections_post_2017['party'].isin(['DEMOCRAT', 'REPUBLICAN'])]\n",
    "grouped_elections = relevant_elections.groupby(['state', 'year', 'party'])['candidatevotes'].sum().reset_index()\n",
    "winning_party = grouped_elections.sort_values('candidatevotes', ascending=False).drop_duplicates(['state', 'year'])\n",
    "winning_party = winning_party.sort_values(by = 'state')\n",
    "winning_party = winning_party.drop(columns= 'candidatevotes')\n",
    "\n",
    "\n",
    "#df.reindex -- confrom DF to a new index w. optional filling -- places NA in locastions having no value in teh previous index\n",
    "# we reindex the winning_party data frame to do this\n",
    "# we use pd.MultiIndex.from_product instead of iterools.prodcut(state, year) bcs it returns a list instead of a multiindex\n",
    "winning_party_indexed = winning_party.set_index(['state', 'year'])\n",
    "state = winning_party_indexed.index.levels[0]\n",
    "year = [2019,2020,2021,2022]\n",
    "multi_index = pd.MultiIndex.from_product([state, year])\n",
    "winning_party_indexed = winning_party_indexed.reindex(multi_index)\n",
    "winning_party_indexed_filled = winning_party_indexed.groupby(level=0).fillna(method='ffill').fillna(method='bfill').reset_index()\n",
    "winning_party_indexed_filled = winning_party_indexed_filled.rename(columns = {'level_1' : 'year'})\n",
    "\n",
    "#the rest of our data tables use state postal codes instead of the full names\n",
    "#using a dictionary I found on GitHub we can map these states to their postal codes\n",
    "us_state_to_abbrev = {\n",
    "    \"Alabama\": \"AL\", \"Alaska\": \"AK\", \"Arizona\": \"AZ\", \"Arkansas\": \"AR\", \"California\": \"CA\",\n",
    "    \"Colorado\": \"CO\", \"Connecticut\": \"CT\", \"Delaware\": \"DE\", \"Florida\": \"FL\", \"Georgia\": \"GA\",\n",
    "    \"Hawaii\": \"HI\", \"Idaho\": \"ID\", \"Illinois\": \"IL\", \"Indiana\": \"IN\", \"Iowa\": \"IA\",\n",
    "    \"Kansas\": \"KS\", \"Kentucky\": \"KY\", \"Louisiana\": \"LA\", \"Maine\": \"ME\", \"Maryland\": \"MD\",\n",
    "    \"Massachusetts\": \"MA\", \"Michigan\": \"MI\", \"Minnesota\": \"MN\", \"Mississippi\": \"MS\", \"Missouri\": \"MO\",\n",
    "    \"Montana\": \"MT\", \"Nebraska\": \"NE\", \"Nevada\": \"NV\", \"New hampshire\": \"NH\", \"New jersey\": \"NJ\",\n",
    "    \"New mexico\": \"NM\", \"New york\": \"NY\", \"North carolina\": \"NC\", \"North dakota\": \"ND\", \"Ohio\": \"OH\",\n",
    "    \"Oklahoma\": \"OK\", \"Oregon\": \"OR\", \"Pennsylvania\": \"PA\", \"Rhode island\": \"RI\", \"South carolina\": \"SC\",\n",
    "    \"South dakota\": \"SD\", \"Tennessee\": \"TN\", \"Texas\": \"TX\", \"Utah\": \"UT\", \"Vermont\": \"VT\",\n",
    "    \"Virginia\": \"VA\", \"Washington\": \"WA\", \"West virginia\": \"WV\", \"Wisconsin\": \"WI\", \"Wyoming\": \"WY\"\n",
    "}\n",
    "\n",
    "winning_party_indexed_filled['state'] = winning_party_indexed_filled['state'].str.lower().str.capitalize().map(us_state_to_abbrev)\n",
    "state_political_leaning = winning_party_indexed_filled #naming to something will actually remember\n",
    "state_political_leaning['year'] = state_political_leaning['year'].astype('int32')\n",
    "state_political_leaning\n"
   ]
  },
  {
   "cell_type": "markdown",
   "metadata": {},
   "source": [
    "### Dataset #4 GDP by State"
   ]
  },
  {
   "cell_type": "code",
   "execution_count": null,
   "metadata": {},
   "outputs": [
    {
     "ename": "",
     "evalue": "",
     "output_type": "error",
     "traceback": [
      "\u001b[1;31mJupyter cannot be started. Error attempting to locate Jupyter: Running cells with 'Python 3.9.6 64-bit' requires jupyter and notebook package.\n",
      "\u001b[1;31mRun the following command to install 'jupyter and notebook' into the Python environment. \n",
      "\u001b[1;31mCommand: 'python -m pip install jupyter notebook -U\n",
      "\u001b[1;31mor\n",
      "\u001b[1;31mconda install jupyter notebook -U'\n",
      "\u001b[1;31mClick <a href='https://aka.ms/installJupyterForVSCode'>here</a> for more info."
     ]
    }
   ],
   "source": [
    "# Log onto the BEA website (Bureau of Economic Analysis), the official site for government data.\n",
    "# Navigate to the \"Data\" section, select \"GDP,\" and then choose \"GDP by State.\"\n",
    "# Go to \"Interactive Data\" and select \"Interactive Tables: GDP by State.\"\n",
    "# Choose \"ANNUAL GROSS DOMESTIC PRODUCT (GDP) BY STATE,\" then \"SAGDP2 GDP in current dollars.\"\n",
    "# Select the United States, and view all statistics in the table.\n",
    "# In the resulting table, select the first row's line code where the description is \"all industry total.\"\n",
    "# The resulting table displays the GDP by state in millions of current dollars, with data collected from 2017 to 2022.\n",
    "\n",
    "url4 =  \"Data/GDP by state (2017-2022).csv\"\n",
    "\n",
    "df4 = pd.read_csv(url4, skiprows = 3) #skip first 3 rows because they are a description\n",
    "df4 = df4.drop(columns = ['GeoFips', '2017', '2018'])\n",
    "df4 = df4.rename(columns= {'GeoName': 'state'})\n",
    "df4_bad_GeoName = df4['state'].str.contains('District of Columbia|New England|nited States *|Mideast|Great Lakes|Plains|Southeast|Southwest|nan|Rocky Mountain|Far West').fillna(False) #dealing with NA values\n",
    "df4 = df4[~ df4_bad_GeoName] #this removes all the regions and territories we don't care about \n",
    "indexes_to_drop = df4.iloc[-4:].index #get the last 4 rows index using iloc\n",
    "df4 = df4.drop(indexes_to_drop)\n",
    "melted_df = pd.melt(df4, id_vars=['state'], value_vars=['2019', '2020', '2021', '2022'], var_name='year', value_name='amount')\n",
    "melted_df = melted_df.sort_values('state')\n",
    "melted_df\n",
    "\n",
    "#using the same code I used on the state leaning dat set we change the years to their postal codes\n",
    "\n",
    "us_state_to_abbrev = {\n",
    "    \"Alabama\": \"AL\", \"Alaska\": \"AK\", \"Arizona\": \"AZ\", \"Arkansas\": \"AR\", \"California\": \"CA\",\n",
    "    \"Colorado\": \"CO\", \"Connecticut\": \"CT\", \"Delaware\": \"DE\", \"Florida\": \"FL\", \"Georgia\": \"GA\",\n",
    "    \"Hawaii\": \"HI\", \"Idaho\": \"ID\", \"Illinois\": \"IL\", \"Indiana\": \"IN\", \"Iowa\": \"IA\",\n",
    "    \"Kansas\": \"KS\", \"Kentucky\": \"KY\", \"Louisiana\": \"LA\", \"Maine\": \"ME\", \"Maryland\": \"MD\",\n",
    "    \"Massachusetts\": \"MA\", \"Michigan\": \"MI\", \"Minnesota\": \"MN\", \"Mississippi\": \"MS\", \"Missouri\": \"MO\",\n",
    "    \"Montana\": \"MT\", \"Nebraska\": \"NE\", \"Nevada\": \"NV\", \"New Hampshire\": \"NH\", \"New Jersey\": \"NJ\",\n",
    "    \"New Mexico\": \"NM\", \"New York\": \"NY\", \"North Carolina\": \"NC\", \"North Dakota\": \"ND\", \"Ohio\": \"OH\",\n",
    "    \"Oklahoma\": \"OK\", \"Oregon\": \"OR\", \"Pennsylvania\": \"PA\", \"Rhode Island\": \"RI\", \"South Carolina\": \"SC\",\n",
    "    \"South Dakota\": \"SD\", \"Tennessee\": \"TN\", \"Texas\": \"TX\", \"Utah\": \"UT\", \"Vermont\": \"VT\",\n",
    "    \"Virginia\": \"VA\", \"Washington\": \"WA\", \"West Virginia\": \"WV\", \"Wisconsin\": \"WI\", \"Wyoming\": \"WY\",\n",
    "}\n",
    "\n",
    "melted_df['state'] = melted_df['state'].map(us_state_to_abbrev)\n",
    "gdp_by_state = melted_df.rename(columns = {'amount': 'GDP'})\n",
    "gdp_by_state #naming to something we will remember\n",
    "gdp_by_state['year'] = gdp_by_state['year'].astype(int) # change to integers\n",
    "gdp_by_state"
   ]
  },
  {
   "cell_type": "markdown",
   "metadata": {},
   "source": [
    "# Results\n",
    "\n",
    "## Exploratory Data Analysis\n",
    "\n",
    "##### Questions That Need Answering\n",
    "- Question 1: Is there a correlation between the number of disasters and the amount of funding allocated?\n",
    "    - Graph: A line or bar chart showing the number of disasters per state each year. This would visually illustrate trends and differences between states over the years.\n",
    "- Question 2: Does the political party in each state affect disaster funding (table)\n",
    "    - Table: A summary table showing average disaster funding by party and by state.\n",
    "    - Graph: Box plots or bar charts comparing disaster funding in Republican vs. Democrat states.\n",
    "- Question 3:How has the GDP of each state changed over the years, and is there any relationship with disaster occurrences or funding?\n",
    "    - Graph: Line charts showing the GDP trend for each state across the years.\n",
    "    - Graph: A scatter plot or a series of scatter plots showing GDP against number of disasters or funding."
   ]
  },
  {
   "cell_type": "markdown",
   "metadata": {},
   "source": [
    "## Merge Data Sets\n"
   ]
  },
  {
   "cell_type": "code",
   "execution_count": null,
   "metadata": {},
   "outputs": [
    {
     "ename": "",
     "evalue": "",
     "output_type": "error",
     "traceback": [
      "\u001b[1;31mJupyter cannot be started. Error attempting to locate Jupyter: Running cells with 'Python 3.9.6 64-bit' requires jupyter and notebook package.\n",
      "\u001b[1;31mRun the following command to install 'jupyter and notebook' into the Python environment. \n",
      "\u001b[1;31mCommand: 'python -m pip install jupyter notebook -U\n",
      "\u001b[1;31mor\n",
      "\u001b[1;31mconda install jupyter notebook -U'\n",
      "\u001b[1;31mClick <a href='https://aka.ms/installJupyterForVSCode'>here</a> for more info."
     ]
    }
   ],
   "source": [
    "#the data sets we have now are EMPG, disasters, state_political_leaning, & gdp_by_state \n",
    "#we have individually pre procesesed every data frame so that merging will be a smooth process\n",
    "pd.set_option('display.max_rows', 10)\n",
    "master_df = disasters.merge(EMPG)\n",
    "master_df = master_df.merge(state_political_leaning)\n",
    "master_df = master_df.merge(gdp_by_state)\n",
    "master_df"
   ]
  },
  {
   "cell_type": "markdown",
   "metadata": {},
   "source": [
    "#### Section 1 - Correlation between Num. of disasters and Funding Allocated"
   ]
  },
  {
   "cell_type": "code",
   "execution_count": null,
   "metadata": {},
   "outputs": [
    {
     "ename": "",
     "evalue": "",
     "output_type": "error",
     "traceback": [
      "\u001b[1;31mJupyter cannot be started. Error attempting to locate Jupyter: Running cells with 'Python 3.9.6 64-bit' requires jupyter and notebook package.\n",
      "\u001b[1;31mRun the following command to install 'jupyter and notebook' into the Python environment. \n",
      "\u001b[1;31mCommand: 'python -m pip install jupyter notebook -U\n",
      "\u001b[1;31mor\n",
      "\u001b[1;31mconda install jupyter notebook -U'\n",
      "\u001b[1;31mClick <a href='https://aka.ms/installJupyterForVSCode'>here</a> for more info."
     ]
    }
   ],
   "source": [
    "import seaborn as sns\n",
    "import matplotlib.pyplot as plt\n",
    "import numpy as np"
   ]
  },
  {
   "cell_type": "code",
   "execution_count": null,
   "metadata": {},
   "outputs": [
    {
     "ename": "",
     "evalue": "",
     "output_type": "error",
     "traceback": [
      "\u001b[1;31mJupyter cannot be started. Error attempting to locate Jupyter: Running cells with 'Python 3.9.6 64-bit' requires jupyter and notebook package.\n",
      "\u001b[1;31mRun the following command to install 'jupyter and notebook' into the Python environment. \n",
      "\u001b[1;31mCommand: 'python -m pip install jupyter notebook -U\n",
      "\u001b[1;31mor\n",
      "\u001b[1;31mconda install jupyter notebook -U'\n",
      "\u001b[1;31mClick <a href='https://aka.ms/installJupyterForVSCode'>here</a> for more info."
     ]
    }
   ],
   "source": [
    "pivot = pd.pivot_table(master_df, values= ['disasters', 'funding'], index= 'state', aggfunc = 'sum')\n",
    "\n",
    "plt.figure(figsize =(14,10))\n",
    "scatter = sns.scatterplot(\n",
    "    data = pivot,\n",
    "    x = 'disasters',\n",
    "    y = 'funding',\n",
    ")\n",
    "\n",
    "for state, (x, y) in pivot.iterrows():\n",
    "    plt.text(x, y, state, horizontalalignment='center', verticalalignment = 'top', size='small', color='black', weight='semibold')\n",
    "\n",
    "# calculate line of bet fit\n",
    "x = pivot['disasters']\n",
    "y = pivot['funding']\n",
    "m, b = np.polyfit(x, y, 1)\n",
    "\n",
    "# add to plot \n",
    "plt.plot(x, m*x + b, color='red')\n",
    "\n",
    "plt.ticklabel_format(style='plain', axis='y')      \n",
    "plt.ticklabel_format(style='plain', axis='x')\n",
    "scatter.set_title('Disasters vs Funding by State')\n",
    "scatter.set_xlabel('Number of Disasters')\n",
    "scatter.set_ylabel('Amount of Funding')\n",
    "plt.show()"
   ]
  },
  {
   "cell_type": "code",
   "execution_count": null,
   "metadata": {},
   "outputs": [
    {
     "ename": "",
     "evalue": "",
     "output_type": "error",
     "traceback": [
      "\u001b[1;31mJupyter cannot be started. Error attempting to locate Jupyter: Running cells with 'Python 3.9.6 64-bit' requires jupyter and notebook package.\n",
      "\u001b[1;31mRun the following command to install 'jupyter and notebook' into the Python environment. \n",
      "\u001b[1;31mCommand: 'python -m pip install jupyter notebook -U\n",
      "\u001b[1;31mor\n",
      "\u001b[1;31mconda install jupyter notebook -U'\n",
      "\u001b[1;31mClick <a href='https://aka.ms/installJupyterForVSCode'>here</a> for more info."
     ]
    }
   ],
   "source": [
    "import patsy\n",
    "import statsmodels.api as sm"
   ]
  },
  {
   "cell_type": "code",
   "execution_count": null,
   "metadata": {},
   "outputs": [
    {
     "ename": "",
     "evalue": "",
     "output_type": "error",
     "traceback": [
      "\u001b[1;31mJupyter cannot be started. Error attempting to locate Jupyter: Running cells with 'Python 3.9.6 64-bit' requires jupyter and notebook package.\n",
      "\u001b[1;31mRun the following command to install 'jupyter and notebook' into the Python environment. \n",
      "\u001b[1;31mCommand: 'python -m pip install jupyter notebook -U\n",
      "\u001b[1;31mor\n",
      "\u001b[1;31mconda install jupyter notebook -U'\n",
      "\u001b[1;31mClick <a href='https://aka.ms/installJupyterForVSCode'>here</a> for more info."
     ]
    }
   ],
   "source": [
    "outcome_1, predictors_1 = patsy.dmatrices('funding ~ disasters', data= pivot, return_type='matrix')\n",
    "mod_1 = sm.OLS(outcome_1, predictors_1)\n",
    "res_1 = mod_1.fit()\n",
    "\n",
    "# Check the summary for results\n",
    "print(res_1.summary())"
   ]
  },
  {
   "cell_type": "markdown",
   "metadata": {},
   "source": [
    "looking at wether or not the number of disasters a state has is a good predictor of its funding\n",
    "* prob f-stat -- probability we would get the current result if the null hypothesis were true . Here it's 0.0158 which is less than 0.05 so reject the null hypothesis\n",
    "* 11.5% of the variance in the amount of funding a state gets can be predicted from the number of 'disasters\" a state has\n",
    "* p value less than 0.05 (.016) ~ around almost 2 % of the time you would get a result like this due to chance so we reject the null\n",
    "* coefficient of 2.927e+04 for disasters -- for every additional disaster the increase in funding is approximately 29,270"
   ]
  },
  {
   "cell_type": "markdown",
   "metadata": {},
   "source": [
    "#### Section 2 - Correlation between Num. of disasters and Funding Allocated"
   ]
  },
  {
   "cell_type": "code",
   "execution_count": null,
   "metadata": {},
   "outputs": [
    {
     "ename": "",
     "evalue": "",
     "output_type": "error",
     "traceback": [
      "\u001b[1;31mJupyter cannot be started. Error attempting to locate Jupyter: Running cells with 'Python 3.9.6 64-bit' requires jupyter and notebook package.\n",
      "\u001b[1;31mRun the following command to install 'jupyter and notebook' into the Python environment. \n",
      "\u001b[1;31mCommand: 'python -m pip install jupyter notebook -U\n",
      "\u001b[1;31mor\n",
      "\u001b[1;31mconda install jupyter notebook -U'\n",
      "\u001b[1;31mClick <a href='https://aka.ms/installJupyterForVSCode'>here</a> for more info."
     ]
    }
   ],
   "source": [
    "df_grouped = master_df.groupby(by=['year', 'party', ])['funding'].sum().reset_index()\n",
    "\n",
    "bar_plot= sns.catplot(\n",
    "    data=df_grouped, \n",
    "    kind=\"bar\", \n",
    "    x=\"year\",\n",
    "    y = \"funding\",\n",
    "    hue=\"party\",\n",
    "    hue_order = [\"DEMOCRAT\", \"REPUBLICAN\"], #hue order to specify the way you want vars to show\n",
    "    palette=\"dark\", \n",
    "    alpha=.6, \n",
    "    height=6\n",
    ")\n",
    "\n",
    "plt.ticklabel_format(style='plain', axis='y')\n",
    "plt.title('Disaster Funding Over the Years by Party')\n",
    "plt.xlabel('Year')\n",
    "plt.ylabel('Total Funding (USD)')"
   ]
  },
  {
   "cell_type": "markdown",
   "metadata": {},
   "source": [
    "### Section 3 - Ratio of funding divided by GDP (bar plot)"
   ]
  },
  {
   "cell_type": "code",
   "execution_count": null,
   "metadata": {},
   "outputs": [
    {
     "ename": "",
     "evalue": "",
     "output_type": "error",
     "traceback": [
      "\u001b[1;31mJupyter cannot be started. Error attempting to locate Jupyter: Running cells with 'Python 3.9.6 64-bit' requires jupyter and notebook package.\n",
      "\u001b[1;31mRun the following command to install 'jupyter and notebook' into the Python environment. \n",
      "\u001b[1;31mCommand: 'python -m pip install jupyter notebook -U\n",
      "\u001b[1;31mor\n",
      "\u001b[1;31mconda install jupyter notebook -U'\n",
      "\u001b[1;31mClick <a href='https://aka.ms/installJupyterForVSCode'>here</a> for more info."
     ]
    }
   ],
   "source": [
    "pivot2 = pd.pivot_table(master_df, values= ['funding', 'GDP'], index= 'state', aggfunc = 'sum').reset_index()\n",
    "pivot2['GDP'] = pivot2['GDP']*1000000 #get into dollar amount instead of millions\n",
    "percentage_of_gdp = pivot2['funding']/pivot2['GDP'] *100\n",
    "pivot2['funding_as_percent_of_GDP'] = percentage_of_gdp\n",
    "pivot2 = pivot2.sort_values(by ='funding_as_percent_of_GDP')\n",
    "\n",
    "ig, ax = plt.subplots(figsize=(35,25))\n",
    "sns.barplot(\n",
    "    x='funding_as_percent_of_GDP',\n",
    "    y='state', \n",
    "    data= pivot2, \n",
    "    ax=ax\n",
    ")\n",
    "\n",
    "ax.set_title('Emergency Funding as a Percentage of a States GDP from lowest to Highest', fontsize = 25)\n",
    "ax.set_xlabel('Funding as Percent of GDP', fontsize=30) # set_xlabel  better to put name and choose font size (we need bigger since its a big plot)\n",
    "ax.set_ylabel('State', fontsize=30)\n",
    "\n",
    "\n",
    "ax.tick_params(axis='x', labelsize=20) #this is to make our state values bigger too using tick_params\n",
    "ax.tick_params(axis='y', labelsize=20)\n",
    "\n",
    "plt.show()"
   ]
  },
  {
   "cell_type": "markdown",
   "metadata": {},
   "source": [
    "### Section 4: Correlation between GDP and Funding"
   ]
  },
  {
   "cell_type": "code",
   "execution_count": null,
   "metadata": {},
   "outputs": [
    {
     "ename": "",
     "evalue": "",
     "output_type": "error",
     "traceback": [
      "\u001b[1;31mJupyter cannot be started. Error attempting to locate Jupyter: Running cells with 'Python 3.9.6 64-bit' requires jupyter and notebook package.\n",
      "\u001b[1;31mRun the following command to install 'jupyter and notebook' into the Python environment. \n",
      "\u001b[1;31mCommand: 'python -m pip install jupyter notebook -U\n",
      "\u001b[1;31mor\n",
      "\u001b[1;31mconda install jupyter notebook -U'\n",
      "\u001b[1;31mClick <a href='https://aka.ms/installJupyterForVSCode'>here</a> for more info."
     ]
    }
   ],
   "source": [
    "plt.figure(figsize =(14,10))\n",
    "scatter = sns.scatterplot(\n",
    "    data = pivot2,\n",
    "    x = 'GDP',\n",
    "    y = 'funding',\n",
    "    palette= 'viridis_r'\n",
    ")\n",
    "\n",
    "\n",
    "for index, row in pivot2.iterrows():\n",
    "    state = row['state'] # have to specify what state , x, and y are this time or raises a value error\n",
    "    x = row['GDP']\n",
    "    y = row['funding']\n",
    "    plt.text(x, y, state, horizontalalignment='center', verticalalignment='bottom', size='small', color='black', weight='semibold')\n",
    "\n",
    "x = pivot2['GDP']\n",
    "y = pivot2['funding']\n",
    "m, b = np.polyfit(x, y, 1)\n",
    "\n",
    "# Add to plot\n",
    "plt.plot(x, m*x + b, color='red')\n",
    "\n",
    "plt.ticklabel_format(style='plain', axis='y')      \n",
    "plt.ticklabel_format(style='plain', axis='x')\n",
    "scatter.set_title('Correlation between a states GDP and its Emergency Disaster Relief Funding')\n",
    "scatter.set_xlabel('GDP')\n",
    "scatter.set_ylabel('Amount of Funding')\n",
    "plt.show()"
   ]
  },
  {
   "cell_type": "code",
   "execution_count": null,
   "metadata": {},
   "outputs": [
    {
     "ename": "",
     "evalue": "",
     "output_type": "error",
     "traceback": [
      "\u001b[1;31mJupyter cannot be started. Error attempting to locate Jupyter: Running cells with 'Python 3.9.6 64-bit' requires jupyter and notebook package.\n",
      "\u001b[1;31mRun the following command to install 'jupyter and notebook' into the Python environment. \n",
      "\u001b[1;31mCommand: 'python -m pip install jupyter notebook -U\n",
      "\u001b[1;31mor\n",
      "\u001b[1;31mconda install jupyter notebook -U'\n",
      "\u001b[1;31mClick <a href='https://aka.ms/installJupyterForVSCode'>here</a> for more info."
     ]
    }
   ],
   "source": [
    "outcome_2, predictors_2 = patsy.dmatrices('funding ~ GDP', data= pivot2, return_type='matrix')\n",
    "mod_2 = sm.OLS(outcome_2, predictors_2)\n",
    "res_2 = mod_2.fit()\n",
    "\n",
    "# Check the summary for results\n",
    "print(res_2.summary())"
   ]
  },
  {
   "cell_type": "markdown",
   "metadata": {},
   "source": [
    "# Ethics & Privacy"
   ]
  },
  {
   "cell_type": "markdown",
   "metadata": {},
   "source": [
    "Our data is sourced from governmental agencies and nonprofit organizations such as USA Facts, FEMA, and BEA.gov. These sources aim to provide a strictly non-partisan outlook on the actions of the federal government in an effort to promote a pillar of government so necessary to any government's foundation - transparency. These sources do not contain any private data, as any data determined to be accessible to the public by the Freedom of Information act forgoes data which would be deemed a breach of privacy. Our research does not aim to harm any particular population within a county or state, as it is focused on compiling and analyzing the financial aspect of the relationship between state and federal governments. Moreover, decisions on federal funding are guided by uniform, pre-established standards, and commitments, all found within the constitution of the United States. Our compilation of statistical information lacks sufficient means to overturn the nature of this centuries old relation. Electoral data analyzed is on a strictly state-level basis, meaning that we do not utilize a voter's personal information. "
   ]
  },
  {
   "cell_type": "markdown",
   "metadata": {},
   "source": [
    "# Discusison and Conclusion\n",
    "\n",
    "Wrap it all up here.  Somewhere between 3 and 10 paragraphs roughly.  A good time to refer back to your Background section and review how this work extended the previous stuff. \n",
    "\n",
    "\n",
    "# Team Contributions\n",
    "\n",
    "Speficy who did what.  This should be pretty granular, perhaps bullet points, no more than a few sentences per person."
   ]
  }
 ],
 "metadata": {
  "kernelspec": {
   "display_name": "Python 3.9.6 64-bit",
   "language": "python",
   "name": "python3"
  },
  "language_info": {
   "codemirror_mode": {
    "name": "ipython",
    "version": 3
   },
   "file_extension": ".py",
   "mimetype": "text/x-python",
   "name": "python",
   "nbconvert_exporter": "python",
   "pygments_lexer": "ipython3",
   "version": "3.9.6"
  },
  "vscode": {
   "interpreter": {
    "hash": "31f2aee4e71d21fbe5cf8b01ff0e069b9275f58929596ceb00d14d90e3e16cd6"
   }
  }
 },
 "nbformat": 4,
 "nbformat_minor": 2
}
